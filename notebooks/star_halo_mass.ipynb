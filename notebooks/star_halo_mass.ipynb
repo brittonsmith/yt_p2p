{
 "cells": [
  {
   "cell_type": "code",
   "execution_count": null,
   "id": "bf9caab2",
   "metadata": {},
   "outputs": [],
   "source": [
    "from matplotlib import pyplot\n",
    "%matplotlib inline\n",
    "import numpy as np\n",
    "from scipy.interpolate import interp1d\n",
    "import ytree\n",
    "\n",
    "from ytree.data_structures.tree_container import TreeContainer\n",
    "from yt.extensions.p2p.model_profiles import get_star_data\n",
    "from yt.extensions.p2p.tree_analysis_operations import get_progenitor_line"
   ]
  },
  {
   "cell_type": "code",
   "execution_count": null,
   "id": "c2bfc0f5",
   "metadata": {},
   "outputs": [],
   "source": [
    "pyplot.rcParams['figure.figsize'] = (15, 9)\n",
    "pyplot.rcParams['font.size'] = 20"
   ]
  },
  {
   "cell_type": "code",
   "execution_count": null,
   "id": "c1d46539",
   "metadata": {},
   "outputs": [],
   "source": [
    "star_data = get_star_data(\"star_hosts.yaml\")"
   ]
  },
  {
   "cell_type": "code",
   "execution_count": null,
   "id": "0220bfa4",
   "metadata": {},
   "outputs": [],
   "source": [
    "star_data.keys()"
   ]
  },
  {
   "cell_type": "code",
   "execution_count": null,
   "id": "e760af42",
   "metadata": {},
   "outputs": [],
   "source": [
    "my_star = star_data[334267099]"
   ]
  },
  {
   "cell_type": "code",
   "execution_count": null,
   "id": "593654cc",
   "metadata": {},
   "outputs": [],
   "source": [
    "a = ytree.load(my_star[\"arbor\"])"
   ]
  },
  {
   "cell_type": "code",
   "execution_count": null,
   "id": "560a0824",
   "metadata": {},
   "outputs": [],
   "source": [
    "my_root = a[my_star[\"_arbor_index\"]]\n",
    "my_tree = my_root.get_node(\"forest\", my_star[\"tree_id\"])\n",
    "ct = my_star[\"creation_time\"]"
   ]
  },
  {
   "cell_type": "code",
   "execution_count": null,
   "id": "71b8968c",
   "metadata": {},
   "outputs": [],
   "source": [
    "prog = TreeContainer(a, get_progenitor_line(my_tree))"
   ]
  },
  {
   "cell_type": "code",
   "execution_count": null,
   "id": "0119535f",
   "metadata": {},
   "outputs": [],
   "source": [
    "good = (prog[\"time\"] <= ct) | ((prog[\"time\"] > ct) & (prog[\"mass\"] > 1e4))"
   ]
  },
  {
   "cell_type": "code",
   "execution_count": null,
   "id": "a342b9e6",
   "metadata": {},
   "outputs": [],
   "source": [
    "### Using creation time\n",
    "i1 = np.digitize(ct, prog[\"time\"][good])\n",
    "i2 = np.where(good)[0][-1]\n",
    "my_x = np.array([prog[\"time\"][good][i1], prog[\"time\"][i2]])\n",
    "my_y = np.log10([prog[\"mass\"][good][i1], prog[\"mass\"][i2]])\n",
    "ikwargs = {\"kind\": \"linear\", \"fill_value\": \"extrapolate\"}\n",
    "f1 = interp1d(my_x, my_y, **ikwargs)"
   ]
  },
  {
   "cell_type": "code",
   "execution_count": null,
   "id": "95905504",
   "metadata": {},
   "outputs": [],
   "source": [
    "i1 = np.where(good)[0][-20]\n",
    "i2 = np.where(good)[0][-10]\n",
    "my_x = np.array([prog[\"time\"][i1], prog[\"time\"][i2]])\n",
    "my_y = np.log10([prog[\"mass\"][i1], prog[\"mass\"][i2]])\n",
    "ikwargs = {\"kind\": \"linear\", \"fill_value\": \"extrapolate\"}\n",
    "f1 = interp1d(my_x, my_y, **ikwargs)"
   ]
  },
  {
   "cell_type": "code",
   "execution_count": null,
   "id": "94e425be",
   "metadata": {},
   "outputs": [],
   "source": [
    "my_x, my_y"
   ]
  },
  {
   "cell_type": "code",
   "execution_count": null,
   "id": "1172d558",
   "metadata": {},
   "outputs": [],
   "source": [
    "slope = (my_y[1] - my_y[0]) / (my_x[1] - my_x[0])\n",
    "my_lmf = 7\n",
    "my_tf = (my_lmf - my_y[0]) / slope + my_x[0]"
   ]
  },
  {
   "cell_type": "code",
   "execution_count": null,
   "id": "680dc6d8",
   "metadata": {},
   "outputs": [],
   "source": [
    "tf = prog[\"time\"][good][-1]\n",
    "tff = a.quan(my_tf, \"Myr\")\n",
    "mf = prog[\"mass\"][good][-1]\n",
    "mff = a.quan(np.power(10, f1(tff)), mf.units)"
   ]
  },
  {
   "cell_type": "code",
   "execution_count": null,
   "id": "49c4b3a7",
   "metadata": {},
   "outputs": [],
   "source": [
    "tff"
   ]
  },
  {
   "cell_type": "code",
   "execution_count": null,
   "id": "aac089f2",
   "metadata": {},
   "outputs": [],
   "source": [
    "pyplot.semilogy(prog[\"time\"], prog[\"mass\"])\n",
    "pyplot.semilogy(prog[\"time\"][good], prog[\"mass\"][good])\n",
    "pyplot.semilogy([tf, tff], [mf, mff])\n",
    "pyplot.axvline(my_star[\"creation_time\"])\n",
    "pyplot.ylabel(\"M [M$_{\\odot}$]\")\n",
    "pyplot.xlabel(\"t [Myr]\")\n",
    "pyplot.show()"
   ]
  },
  {
   "cell_type": "code",
   "execution_count": null,
   "id": "f6feecff",
   "metadata": {},
   "outputs": [],
   "source": []
  }
 ],
 "metadata": {
  "kernelspec": {
   "display_name": "Python 3 (ipykernel)",
   "language": "python",
   "name": "python3"
  },
  "language_info": {
   "codemirror_mode": {
    "name": "ipython",
    "version": 3
   },
   "file_extension": ".py",
   "mimetype": "text/x-python",
   "name": "python",
   "nbconvert_exporter": "python",
   "pygments_lexer": "ipython3",
   "version": "3.9.12"
  }
 },
 "nbformat": 4,
 "nbformat_minor": 5
}
