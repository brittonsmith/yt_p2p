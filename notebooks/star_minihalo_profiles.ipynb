{
 "cells": [
  {
   "cell_type": "code",
   "execution_count": null,
   "metadata": {},
   "outputs": [],
   "source": [
    "import glob\n",
    "from matplotlib import pyplot\n",
    "%matplotlib inline\n",
    "import numpy as np\n",
    "import os\n",
    "from unyt import uvstack\n",
    "import yt\n",
    "from yt.utilities.physical_constants import G\n",
    "from yt.visualization.color_maps import yt_colormaps\n",
    "\n",
    "from yt.extensions.p2p.data_plotter import DataPlotter\n",
    "from yt.extensions.p2p.models import \\\n",
    "    find_peaks, \\\n",
    "    rebin_profiles, \\\n",
    "    get_datasets"
   ]
  },
  {
   "cell_type": "code",
   "execution_count": null,
   "metadata": {},
   "outputs": [],
   "source": [
    "pyplot.rcParams['figure.figsize'] = (15, 9)\n",
    "pyplot.rcParams['font.size'] = 20"
   ]
  },
  {
   "cell_type": "code",
   "execution_count": null,
   "metadata": {},
   "outputs": [],
   "source": [
    "yt.mylog.setLevel(40)"
   ]
  },
  {
   "cell_type": "markdown",
   "metadata": {},
   "source": [
    "## Choose a star"
   ]
  },
  {
   "cell_type": "code",
   "execution_count": null,
   "metadata": {},
   "outputs": [],
   "source": [
    "star_id = 334267081  ### first star\n",
    "# star_id = 334267082  ### irradiated 1x, no heating, metal-free\n",
    "# star_id = 334267083  ### irradiated 2x, heated 1x, metal-enriched (original target halo)\n",
    "# star_id = 334267086  ### irradiated 2x, no heating, metal-free\n",
    "# star_id = 334267090  ### irradiated 3x, heated 2x, metal-free\n",
    "# star_id = 334267093  ### irradiated 4x, heated 2x, metal-free\n",
    "# star_id = 334267099  ### irradiated 6x, minimal signs of heating, metal-free\n",
    "# star_id = 334267102  ### irradiated 7x, heated 1x, metal-free\n",
    "# star_id = 334267111  ### (target halo) irradiated 8x, multiple heatings, metal-enriched, some centering issues"
   ]
  },
  {
   "cell_type": "code",
   "execution_count": null,
   "metadata": {},
   "outputs": [],
   "source": [
    "data_dir = f'star_minihalo_profiles/star_{star_id}'"
   ]
  },
  {
   "cell_type": "markdown",
   "metadata": {},
   "source": [
    "## Load all profiles"
   ]
  },
  {
   "cell_type": "code",
   "execution_count": null,
   "metadata": {},
   "outputs": [],
   "source": [
    "nfns = sorted(glob.glob(os.path.join(data_dir, '*_weight_field_None.h5')))\n",
    "npds_list = get_datasets(nfns)\n",
    "vfns = sorted(glob.glob(os.path.join(data_dir, '*_weight_field_volume.h5')))\n",
    "vpds_list = get_datasets(vfns)\n",
    "mfns = sorted(glob.glob(os.path.join(data_dir, '*_weight_field_mass.h5')))\n",
    "mpds_list = get_datasets(mfns)"
   ]
  },
  {
   "cell_type": "markdown",
   "metadata": {},
   "source": [
    "## Plot a bunch of profiles\n",
    "\n",
    "Change `x_field` below to one of the other values to plot profiles vs. enclosed gas or total mass."
   ]
  },
  {
   "cell_type": "code",
   "execution_count": null,
   "metadata": {},
   "outputs": [],
   "source": [
    "x_field = 'radius'\n",
    "# x_field = 'm_gas_enc'\n",
    "# x_field = 'm_tot_enc'\n",
    "\n",
    "plots = (\n",
    "    ('gas_density', x_field),\n",
    "    ('dm_density', x_field),\n",
    "    ('temperature', x_field),\n",
    "    ('entropy', x_field),\n",
    "    ('pressure', x_field),\n",
    "    ('hyd_eq_pressure', x_field),\n",
    "    ('H2_fraction', x_field),\n",
    "    ('metallicity', x_field),\n",
    "    ('m_gas_enc', 'radius'),\n",
    "    ('baryon_fraction', x_field),\n",
    "    ('mbe_ratio', x_field),\n",
    "    ('timescale_ratio', x_field),\n",
    ")\n",
    "\n",
    "labels = {\n",
    "    'radius': 'r [pc]',\n",
    "    'm_gas_enc': 'M$_{gas,enc}$ [Msun]',\n",
    "    'm_tot_enc': 'M$_{tot,enc}$ [Msun]',\n",
    "    'gas_density': '$\\\\rho_{b}\\ [g/cm^{3}]$',\n",
    "    'dm_density': '$\\\\rho_{dm}\\ [g/cm^{3}]$',\n",
    "    'temperature': 'T [K]',\n",
    "    'entropy': 'entropy [erg cm$^{2}$]',\n",
    "    'pressure': 'p [dyne/cm$^{2}$]',\n",
    "    'hyd_eq_pressure': 'p / p$_{eq}$',\n",
    "    'H2_fraction': 'f$_{H2}$',\n",
    "    'metallicity': 'Z [Zsun]',\n",
    "    'baryon_fraction': 'M$_{gas,enc}$ / M$_{tot,enc}$',\n",
    "    'mbe_ratio': 'M$_{gas,enc}$ / M$_{BE}$',\n",
    "    'timescale_ratio': 't$_{cs}$ / t$_{d}$',\n",
    "}"
   ]
  },
  {
   "cell_type": "code",
   "execution_count": null,
   "metadata": {
    "scrolled": false
   },
   "outputs": [],
   "source": [
    "### Bonnor-Ebert Mass constant\n",
    "a = 1.67\n",
    "b = (225 / (32 * np.sqrt(5 * np.pi))) * a**-1.5\n",
    "\n",
    "n_plots = len(plots)\n",
    "profile_data = []\n",
    "\n",
    "plotter = DataPlotter(plots, labels)\n",
    "pbar = yt.get_pbar(\"Plotting\", len(npds_list)-1)\n",
    "\n",
    "for i, (npds, vpds, mpds) in enumerate(zip(npds_list, vpds_list, mpds_list)):\n",
    "    pbar.update(i)\n",
    "    \n",
    "    # Omit last profile because star has formed.\n",
    "    if i == len(npds_list) - 1:\n",
    "        continue\n",
    "\n",
    "    x_bins = mpds.profile.x_bins\n",
    "\n",
    "    used = mpds.data['data', 'used'].d.astype(bool)\n",
    "    m_tot = npds.profile['data', 'matter_mass'].to('Msun')[used]\n",
    "    m_tot_enc = m_tot.cumsum()\n",
    "    m_gas = npds.profile['data', 'cell_mass'].to('Msun')[used]\n",
    "    m_gas_enc = m_gas.cumsum()\n",
    "\n",
    "    r = mpds.data['data', 'radius'][used].to('pc')\n",
    "    rho = mpds.data['data', 'density'][used]\n",
    "    T = mpds.data['data', 'temperature'][used]\n",
    "    H2 = mpds.data['data', 'H2_p0_fraction'][used]\n",
    "    Z = mpds.data['data', 'metallicity3'][used].to('Zsun')\n",
    "    p = mpds.data['data', 'pressure'][used]\n",
    "    entropy = mpds.data['data', 'entropy'][used].to('erg*cm**2')\n",
    "\n",
    "    r_v = vpds.data['data', 'radius'][used]\n",
    "    rho_v = vpds.data['data', 'density'][used]\n",
    "    rho_dm = vpds.data['data', 'dark_matter_density'][used]\n",
    "    rho_total = vpds.data['data', 'matter_density'][used]\n",
    "    volume_weight = vpds.data['data', 'weight'][used]\n",
    "\n",
    "    dr = np.diff(x_bins)[used]\n",
    "    dp = (G * m_tot_enc * rho_v * dr / r**2)\n",
    "    p_eq = dp[::-1].cumsum()[::-1].in_cgs()\n",
    "\n",
    "    cs = mpds.data['data', 'sound_speed'][used]\n",
    "    m_BE = (b * (cs**4 / G**1.5) * p**-0.5).to('Msun')\n",
    "    m_rat = m_gas_enc / m_BE\n",
    "\n",
    "    # t_ff = mpds.data['data', 'total_dynamical_time'][used].to('Myr') / np.sqrt(2)\n",
    "    t_ff = mpds.data['data', 'dynamical_time'][used].to('Myr') / np.sqrt(2)\n",
    "    t_cool = mpds.data['data', 'cooling_time'][used].to('Myr')\n",
    "    t_cs = (2 * r / mpds.data['data', 'sound_speed'][used]).to('Myr')    \n",
    "    t_rat = t_cs / t_ff\n",
    "    # t_rat = t_cool / t_ff\n",
    "    \n",
    "    plot_data = {\n",
    "        'radius': r,\n",
    "        'm_gas_enc': m_gas_enc,\n",
    "        'm_tot_enc': m_tot_enc,\n",
    "        'gas_density': rho,\n",
    "        'dm_density': rho_dm,\n",
    "        'temperature': T,\n",
    "        'entropy': entropy,\n",
    "        'pressure': p,\n",
    "        'hyd_eq_pressure': (p/p_eq), \n",
    "        'H2_fraction': H2,\n",
    "        'metallicity': Z,\n",
    "        'mbe_ratio': m_rat,\n",
    "        'timescale_ratio': t_rat,\n",
    "        'baryon_fraction': (m_gas_enc/m_tot_enc),\n",
    "    }\n",
    "\n",
    "    profile_datum = {\"m_gas_enc\": m_gas_enc, \"m_tot_enc\": m_tot_enc,\n",
    "                     \"m_rat\": m_rat, \"t_cs\": t_cs, \"external_pressure\": p_eq}\n",
    "    pfields = [field for field in mpds.field_list\n",
    "               if field[0] == 'data' and field[1] not in ['x', 'x_bins']]\n",
    "    profile_datum.update(dict((field, mpds.data[field][used]) for field in pfields))\n",
    "    profile_data.append(profile_datum)\n",
    "\n",
    "    color = pyplot.cm.turbo(float(i/(len(mfns)-1)))\n",
    "    plotter.plot_data(plot_data, color=color)\n",
    "\n",
    "pbar.finish()\n",
    "\n",
    "plotter.plot_axes()\n",
    "plotter.axes['mbe_ratio'].set_ylim(1e-4, 3)\n",
    "plotter.axes['mbe_ratio'].axhline(y=1, color='black', linestyle='--')\n",
    "plotter.axes['timescale_ratio'].axhline(y=1, color='black', linestyle='--')\n",
    "pyplot.show()"
   ]
  },
  {
   "cell_type": "markdown",
   "metadata": {},
   "source": [
    "## Rebin profiles by mass\n",
    "\n",
    "This will rebin profiles by enclosed gas mass for use with the one-zone model."
   ]
  },
  {
   "cell_type": "code",
   "execution_count": null,
   "metadata": {},
   "outputs": [],
   "source": [
    "rebin_field = 'm_gas_enc'\n",
    "cube_fn = f\"star_minihalo_profile_cubes/star_{star_id}.h5\""
   ]
  },
  {
   "cell_type": "code",
   "execution_count": null,
   "metadata": {},
   "outputs": [],
   "source": [
    "if not os.path.exists(cube_fn) or True:\n",
    "    # rebin profiles by enclosed gas mass with bin density of 5 bins per dex\n",
    "    new_profiles = rebin_profiles(profile_data, rebin_field, 5)\n",
    "    \n",
    "    # Smash rebinned profile data into 2D arrays so we can plot time evolution.\n",
    "    profile_cube = dict((field, uvstack([new_prof[field] for new_prof in new_profiles]))\n",
    "                        for field in new_profiles[0])\n",
    "    \n",
    "    ### Times for all datasets\n",
    "    t_all = mpds.arr([ds.current_time.to('Myr') for ds in mpds_list[:-1]])\n",
    "    t_all -= t_all[0]\n",
    "    profile_cube[\"time\"] = t_all\n",
    "    \n",
    "    yt.save_as_dataset(mpds_list[-1], filename=cube_fn, data=profile_cube)"
   ]
  },
  {
   "cell_type": "code",
   "execution_count": null,
   "metadata": {},
   "outputs": [],
   "source": [
    "ds = yt.load(cube_fn)\n",
    "\n",
    "time_index = -1\n",
    "i_peaks  = find_peaks(ds, rebin_field, \"m_rat\", time_index)\n",
    "\n",
    "plot = True\n",
    "if plot:\n",
    "    bin_data = ds.data['data', rebin_field][time_index]\n",
    "    peak_data = ds.data['data', \"m_rat\"][time_index]\n",
    "    peak_used = peak_data > 0\n",
    "\n",
    "    pyplot.loglog(bin_data[peak_used], peak_data[peak_used])\n",
    "    pyplot.scatter(bin_data[i_peaks], peak_data[i_peaks])\n",
    "    pyplot.xlabel(\"M$_{gas, enc}$ [Msun]\")\n",
    "    pyplot.ylabel(\"peak field\")\n",
    "    pyplot.show()"
   ]
  },
  {
   "cell_type": "code",
   "execution_count": null,
   "metadata": {},
   "outputs": [],
   "source": []
  }
 ],
 "metadata": {
  "kernelspec": {
   "display_name": "Python 3 (ipykernel)",
   "language": "python",
   "name": "python3"
  },
  "language_info": {
   "codemirror_mode": {
    "name": "ipython",
    "version": 3
   },
   "file_extension": ".py",
   "mimetype": "text/x-python",
   "name": "python",
   "nbconvert_exporter": "python",
   "pygments_lexer": "ipython3",
   "version": "3.8.12"
  }
 },
 "nbformat": 4,
 "nbformat_minor": 2
}
