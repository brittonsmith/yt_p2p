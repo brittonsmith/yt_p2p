{
 "cells": [
  {
   "cell_type": "code",
   "execution_count": null,
   "metadata": {},
   "outputs": [],
   "source": [
    "import glob\n",
    "from matplotlib import pyplot\n",
    "%matplotlib inline\n",
    "import numpy as np\n",
    "import os\n",
    "import yt\n",
    "from yt.utilities.physical_constants import G\n",
    "from yt.visualization.color_maps import yt_colormaps\n",
    "\n",
    "from yt.extensions.p2p.data_plotter import DataPlotter\n",
    "from yt.extensions.p2p.model_profiles import \\\n",
    "    find_peaks, \\\n",
    "    load_model_profiles\n",
    "from yt.extensions.p2p.stars import get_star_data"
   ]
  },
  {
   "cell_type": "code",
   "execution_count": null,
   "metadata": {},
   "outputs": [],
   "source": [
    "pyplot.rcParams['figure.figsize'] = (15, 9)\n",
    "pyplot.rcParams['font.size'] = 20"
   ]
  },
  {
   "cell_type": "code",
   "execution_count": null,
   "metadata": {},
   "outputs": [],
   "source": [
    "yt.mylog.setLevel(40)"
   ]
  },
  {
   "cell_type": "markdown",
   "metadata": {},
   "source": [
    "## Choose a star"
   ]
  },
  {
   "cell_type": "code",
   "execution_count": null,
   "metadata": {},
   "outputs": [],
   "source": [
    "star_id = 334267081  ### first star\n",
    "# star_id = 334267082  ### irradiated 1x, no heating, metal-free\n",
    "# star_id = 334267083  ### irradiated 2x, heated 1x, metal-enriched (original target halo)\n",
    "# star_id = 334267086  ### irradiated 2x, no heating, metal-free\n",
    "# star_id = 334267090  ### irradiated 3x, heated 2x, metal-free\n",
    "# star_id = 334267093  ### irradiated 4x, heated 2x, metal-free\n",
    "# star_id = 334267099  ### irradiated 6x, minimal signs of heating, metal-free\n",
    "# star_id = 334267102  ### irradiated 7x, heated 1x, metal-free\n",
    "# star_id = 334267111  ### (target halo) irradiated 8x, multiple heatings, metal-enriched, some centering issues"
   ]
  },
  {
   "cell_type": "code",
   "execution_count": null,
   "metadata": {
    "scrolled": true
   },
   "outputs": [],
   "source": [
    "star_data = get_star_data(\"star_hosts.yaml\")\n",
    "my_star = star_data[star_id]\n",
    "creation_time = my_star[\"creation_time\"]"
   ]
  },
  {
   "cell_type": "markdown",
   "metadata": {},
   "source": [
    "## Load all profiles"
   ]
  },
  {
   "cell_type": "code",
   "execution_count": null,
   "metadata": {},
   "outputs": [],
   "source": [
    "filename = os.path.join(\"star_cubes\", f\"star_{star_id}_mass.h5\")\n",
    "pds = yt.load(filename)\n",
    "profile_data = pds.data"
   ]
  },
  {
   "cell_type": "markdown",
   "metadata": {},
   "source": [
    "## Plot a bunch of profiles\n",
    "\n",
    "Change `x_field` below to one of the other values to plot profiles vs. enclosed gas or total mass."
   ]
  },
  {
   "cell_type": "code",
   "execution_count": null,
   "metadata": {},
   "outputs": [],
   "source": [
    "x_field = 'radius'\n",
    "# x_field = 'gas_mass_enclosed'\n",
    "# x_field = 'total_mass_enclosed'\n",
    "\n",
    "plots = (\n",
    "    ('gas_density', x_field),\n",
    "    ('dm_density', x_field),\n",
    "    ('temperature', x_field),\n",
    "    ('entropy', x_field),\n",
    "    ('pressure', x_field),\n",
    "    ('hyd_eq_pressure', x_field),\n",
    "    ('H2_fraction', x_field),\n",
    "    ('metallicity', x_field),\n",
    "    ('gas_mass_enclosed', 'radius'),\n",
    "    ('baryon_fraction', x_field),\n",
    "    ('mbe_ratio', x_field),\n",
    "    ('timescale_ratio', x_field),\n",
    "    ('turbulent_velocity', x_field),\n",
    "    ('turbulent_mach_number', x_field),\n",
    ")\n",
    "\n",
    "labels = {\n",
    "    'radius': 'r [pc]',\n",
    "    'gas_mass_enclosed': 'M$_{gas,enc}$ [Msun]',\n",
    "    'total_mass_enclosed': 'M$_{tot,enc}$ [Msun]',\n",
    "    'gas_density': '$\\\\rho_{b}\\ [g/cm^{3}]$',\n",
    "    'dm_density': '$\\\\rho_{dm}\\ [g/cm^{3}]$',\n",
    "    'temperature': 'T [K]',\n",
    "    'entropy': 'entropy [erg cm$^{2}$]',\n",
    "    'pressure': 'p [dyne/cm$^{2}$]',\n",
    "    'hyd_eq_pressure': 'p / p$_{eq}$',\n",
    "    'H2_fraction': 'f$_{H2}$',\n",
    "    'metallicity': 'Z [Zsun]',\n",
    "    'baryon_fraction': 'M$_{gas,enc}$ / M$_{tot,enc}$',\n",
    "    'mbe_ratio': 'M$_{gas,enc}$ / M$_{BE}$',\n",
    "    'timescale_ratio': 't$_{cs}$ / t$_{ff}$',\n",
    "    'turbulent_velocity': 'v$_{turb}$ [km/s]',\n",
    "    'turbulent_mach_number': 'M$_{turb}$',\n",
    "}"
   ]
  },
  {
   "cell_type": "code",
   "execution_count": null,
   "metadata": {
    "scrolled": false
   },
   "outputs": [],
   "source": [
    "### Bonnor-Ebert Mass constant\n",
    "a = 1.67\n",
    "b = (225 / (32 * np.sqrt(5 * np.pi))) * a**-1.5\n",
    "\n",
    "n_plots = len(plots)\n",
    "\n",
    "times = profile_data[\"data\", \"time\"].to(\"Myr\")\n",
    "ibefore = (times < creation_time).sum()\n",
    "iafter = times.size - ibefore\n",
    "\n",
    "plotter = DataPlotter(plots, labels)\n",
    "pbar = yt.get_pbar(\"Plotting\", times.size)\n",
    "\n",
    "for i, current_time in enumerate(times):\n",
    "    pbar.update(i)\n",
    "\n",
    "    before = current_time < creation_time\n",
    "\n",
    "    used = profile_data[\"data\", \"cell_volume_weight\"][i] > 1e7\n",
    "\n",
    "    m_tot_enc = profile_data[\"data\", \"total_mass_enclosed\"][i, used].to(\"Msun\")\n",
    "    m_gas_enc = profile_data[\"data\", \"gas_mass_enclosed\"][i, used].to(\"Msun\")\n",
    "    m_dm_enc = profile_data[\"data\", \"dark_matter_mass_enclosed\"][i, used].to(\"Msun\")\n",
    "\n",
    "    r = profile_data[\"data\", \"radius\"][i, used].to(\"pc\")\n",
    "    rho_v = profile_data[\"data\", \"gas_density_volume_weighted\"][i, used]\n",
    "    rho_dm = profile_data[\"data\", \"dark_matter_density_volume_weighted\"][i, used]\n",
    "\n",
    "    plot_data = {\n",
    "        \"radius\": r,\n",
    "        \"gas_mass_enclosed\": m_gas_enc,\n",
    "        \"total_mass_enclosed\": m_tot_enc,\n",
    "        \"dm_density\": rho_dm,\n",
    "    }\n",
    "\n",
    "    if before:\n",
    "        rho = profile_data[\"data\", \"density\"][i, used]\n",
    "        T = profile_data[\"data\", \"temperature\"][i, used]\n",
    "        H2 = profile_data[\"data\", \"H2_p0_fraction\"][i, used]\n",
    "        Z = profile_data[\"data\", \"metallicity3\"][i, used].to(\"Zsun\")\n",
    "        p = profile_data[\"data\", \"pressure\"][i, used]\n",
    "        entropy = profile_data[\"data\", \"entropy\"][i, used].to(\"erg*cm**2\")\n",
    "        \n",
    "        cs = profile_data[\"data\", \"sound_speed\"][i, used]\n",
    "        v_turb = profile_data[\"data\", \"turbulent_velocity\"][i, used]\n",
    "        cs_eff = np.sqrt(cs**2 + v_turb**2)\n",
    "\n",
    "        m_BE = (b * (cs**4 / G**1.5) * p**-0.5).to(\"Msun\")\n",
    "        m_rat = m_gas_enc / m_BE\n",
    "\n",
    "        # t_ff = profile_data[\"data\", \"total_dynamical_time\"][i, used].to(\"Myr\") / np.sqrt(2)\n",
    "        t_ff = profile_data[\"data\", \"dynamical_time\"][i, used].to(\"Myr\") / np.sqrt(2)\n",
    "        t_cool = profile_data[\"data\", \"cooling_time\"][i, used].to(\"Myr\")\n",
    "        t_cs = (2 * r / cs_eff).to(\"Myr\")\n",
    "        t_rat = t_cs / t_ff\n",
    "        # t_rat = t_cool / t_ff\n",
    "\n",
    "        dr = profile_data[\"data\", \"dr\"][i, used]\n",
    "        dp = (G * m_tot_enc * rho * dr / r**2)\n",
    "        p_eq = dp[::-1].cumsum()[::-1]\n",
    "        dp_dm = (G * m_dm_enc * rho * dr / r**2)\n",
    "        p_eq_dm = dp_dm[::-1].cumsum()[::-1].in_cgs()\n",
    "\n",
    "        plot_data.update({\n",
    "            \"gas_density\": rho,\n",
    "            \"temperature\": T,\n",
    "            \"entropy\": entropy,\n",
    "            \"pressure\": p,\n",
    "            \"hyd_eq_pressure\": (p/p_eq_dm).to(\"\"),\n",
    "            \"H2_fraction\": H2,\n",
    "            \"metallicity\": Z,\n",
    "            \"mbe_ratio\": m_rat,\n",
    "            \"timescale_ratio\": t_rat,\n",
    "            \"baryon_fraction\": (m_gas_enc/m_tot_enc),\n",
    "            \"turbulent_velocity\": v_turb.to(\"km/s\"),\n",
    "            \"turbulent_mach_number\": (v_turb/cs).to(\"\")\n",
    "        })\n",
    "\n",
    "    if before:\n",
    "        color = pyplot.cm.turbo(float(i/(ibefore-1)))\n",
    "        alpha = 1\n",
    "    else:\n",
    "        color = pyplot.cm.winter(float(i-ibefore)/(iafter-1))\n",
    "        alpha = 0.2\n",
    "    plotter.plot_data(plot_data, color=color, alpha=alpha)\n",
    "\n",
    "pbar.finish()\n",
    "\n",
    "plotter.plot_axes()\n",
    "plotter.axes[\"mbe_ratio\"].set_ylim(1e-4, 3)\n",
    "plotter.axes[\"mbe_ratio\"].axhline(y=1, color=\"black\", linestyle=\"--\")\n",
    "plotter.axes[\"timescale_ratio\"].axhline(y=1, color=\"black\", linestyle=\"--\")\n",
    "pyplot.show()"
   ]
  },
  {
   "cell_type": "markdown",
   "metadata": {},
   "source": [
    "## Plot peaks in Bonnor-Ebert mass"
   ]
  },
  {
   "cell_type": "code",
   "execution_count": null,
   "metadata": {},
   "outputs": [],
   "source": [
    "ds = yt.load(os.path.join(\"star_cubes\", f\"star_{star_id}_mass.h5\"))\n",
    "\n",
    "time_index = -1\n",
    "\n",
    "rebin_field = (\"data\", \"gas_mass_enclosed\")\n",
    "data_field = (\"data\", \"bonnor_ebert_ratio\")\n",
    "i_peaks  = find_peaks(ds, rebin_field, data_field, time_index)\n",
    "\n",
    "plot = True\n",
    "if plot:\n",
    "    bin_data = ds.data[rebin_field][time_index]\n",
    "    peak_data = ds.data[data_field][time_index]\n",
    "    peak_used = peak_data > 0\n",
    "\n",
    "    pyplot.loglog(bin_data[peak_used], peak_data[peak_used])\n",
    "    pyplot.scatter(bin_data[i_peaks], peak_data[i_peaks])\n",
    "    pyplot.xlabel(\"M$_{gas, enc}$ [Msun]\")\n",
    "    pyplot.ylabel(\"peak field\")\n",
    "    pyplot.show()"
   ]
  },
  {
   "cell_type": "code",
   "execution_count": null,
   "metadata": {},
   "outputs": [],
   "source": []
  }
 ],
 "metadata": {
  "kernelspec": {
   "display_name": "Python 3 (ipykernel)",
   "language": "python",
   "name": "python3"
  },
  "language_info": {
   "codemirror_mode": {
    "name": "ipython",
    "version": 3
   },
   "file_extension": ".py",
   "mimetype": "text/x-python",
   "name": "python",
   "nbconvert_exporter": "python",
   "pygments_lexer": "ipython3",
   "version": "3.8.12"
  }
 },
 "nbformat": 4,
 "nbformat_minor": 2
}
