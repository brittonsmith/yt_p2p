{
 "cells": [
  {
   "cell_type": "code",
   "execution_count": null,
   "metadata": {},
   "outputs": [],
   "source": [
    "from matplotlib import pyplot\n",
    "%matplotlib inline\n",
    "import numpy as np\n",
    "import os\n",
    "import yt\n",
    "from yt.utilities.physical_constants import G, kboltz, mh\n",
    "from yt.visualization.color_maps import yt_colormaps\n",
    "\n",
    "from pygrackle import \\\n",
    "    FluidContainer, \\\n",
    "    chemistry_data\n",
    "\n",
    "from pygrackle.one_zone import \\\n",
    "    MinihaloModel\n",
    "\n",
    "from pygrackle.yt_fields import \\\n",
    "    prepare_grackle_data\n",
    "\n",
    "from yt.frontends.enzo.data_structures import EnzoDataset\n",
    "\n",
    "from yt.extensions.p2p.data_plotter import DataPlotter\n",
    "from yt.extensions.p2p.model_profiles import \\\n",
    "    rebin_profiles, \\\n",
    "    find_peaks\n",
    "from yt.extensions.p2p.models import \\\n",
    "    prepare_model"
   ]
  },
  {
   "cell_type": "code",
   "execution_count": null,
   "metadata": {},
   "outputs": [],
   "source": [
    "plots = (\n",
    "    ('density', 'time'),\n",
    "    ('temperature', 'time'),\n",
    "    ('pressure', 'time'),\n",
    "    ('entropy', 'time'),\n",
    "    ('H2_fraction', 'time'),\n",
    "    ('metallicity', 'time'),\n",
    "    ('mbe_ratio', 'time'),\n",
    "    ('timescales', 'time'),\n",
    "    ('density_growth', 'time'),\n",
    "    ('H2_diss', 'time')\n",
    ")\n",
    "\n",
    "labels = {\n",
    "    'time': 't [Myr]',\n",
    "    'density': '$\\\\rho\\ [g/cm^{3}]$',\n",
    "    'temperature': 'T [K]',\n",
    "    'entropy': 'entropy [erg cm$^{2}$]',\n",
    "    'pressure': 'p [dyne/cm$^{2}$]',\n",
    "    'H2_fraction': 'f$_{H2}$',\n",
    "    'metallicity': 'Z [Zsun]',\n",
    "    'mbe_ratio': 'M$_{gas}$ / M$_{BE}$',\n",
    "    'timescales': 't [Myr]',\n",
    "    'density_growth' : '$d\\\\rho/dt\\ [g/cm^{3}/Myr]$',\n",
    "    'H2_diss': 'H$_{2}$ diss [1/s]'\n",
    "}"
   ]
  },
  {
   "cell_type": "code",
   "execution_count": null,
   "metadata": {},
   "outputs": [],
   "source": [
    "pyplot.rcParams['figure.figsize'] = (15, 9)\n",
    "pyplot.rcParams['font.size'] = 20"
   ]
  },
  {
   "cell_type": "code",
   "execution_count": null,
   "metadata": {},
   "outputs": [],
   "source": [
    "yt.mylog.setLevel(40)"
   ]
  },
  {
   "cell_type": "markdown",
   "metadata": {},
   "source": [
    "## Choose a star"
   ]
  },
  {
   "cell_type": "code",
   "execution_count": null,
   "metadata": {},
   "outputs": [],
   "source": [
    "star_id = 334267081  ### first star\n",
    "# star_id = 334267082  ### irradiated 1x, no heating, metal-free\n",
    "# star_id = 334267083  ### irradiated 2x, heated 1x, metal-enriched (original target halo)\n",
    "# star_id = 334267086  ### irradiated 2x, no heating, metal-free\n",
    "# star_id = 334267090  ### irradiated 3x, heated 2x, metal-free\n",
    "# star_id = 334267093  ### irradiated 4x, heated 2x, metal-free\n",
    "# star_id = 334267099  ### irradiated 6x, minimal signs of heating, metal-free\n",
    "# star_id = 334267102  ### irradiated 7x, heated 1x, metal-free\n",
    "# star_id = 334267111  ### (target halo) irradiated 8x, multiple heatings, metal-enriched, some centering issues"
   ]
  },
  {
   "cell_type": "code",
   "execution_count": null,
   "metadata": {},
   "outputs": [],
   "source": [
    "mass_cube_fn = f\"star_cubes/star_{star_id}_mass.h5\"\n",
    "radius_cube_fn = f\"star_cubes/star_{star_id}_radius.h5\"\n",
    "mass_field = 'gas_mass_enclosed'"
   ]
  },
  {
   "cell_type": "markdown",
   "metadata": {},
   "source": [
    "## Load profile cube"
   ]
  },
  {
   "cell_type": "code",
   "execution_count": null,
   "metadata": {},
   "outputs": [],
   "source": [
    "mds = yt.load(mass_cube_fn)\n",
    "rds = yt.load(radius_cube_fn)"
   ]
  },
  {
   "cell_type": "markdown",
   "metadata": {},
   "source": [
    "## Find peaks in Bonnor-Ebert ratio"
   ]
  },
  {
   "cell_type": "code",
   "execution_count": null,
   "metadata": {},
   "outputs": [],
   "source": [
    "time_index = -1\n",
    "field = \"bonnor_ebert_ratio\"\n",
    "i_peaks  = find_peaks(mds, mass_field, field, time_index)\n",
    "\n",
    "plot = False\n",
    "if plot:\n",
    "    bin_data = mds.data['data', mass_field][time_index]\n",
    "    peak_data = mds.data['data', field][time_index]\n",
    "    peak_used = peak_data > 0\n",
    "\n",
    "    pyplot.loglog(bin_data[peak_used], peak_data[peak_used])\n",
    "    pyplot.scatter(bin_data[i_peaks], peak_data[i_peaks])\n",
    "    pyplot.xlabel(\"M$_{gas, enc}$ [Msun]\")\n",
    "    pyplot.ylabel(\"peak field\")\n",
    "    pyplot.show()"
   ]
  },
  {
   "cell_type": "markdown",
   "metadata": {},
   "source": [
    "## Run one-zone model with Grackle"
   ]
  },
  {
   "cell_type": "code",
   "execution_count": null,
   "metadata": {},
   "outputs": [],
   "source": [
    "grackle_pars = {\n",
    "    \"use_grackle\": 1,\n",
    "    \"primordial_chemistry\": 3,\n",
    "    \"metal_cooling\": 1,\n",
    "    \"with_radiative_cooling\": 1,\n",
    "    \"grackle_data_file\": \"cloudy_metals_2008_3D.h5\",\n",
    "    \"h2_on_dust\": 1,\n",
    "    \"H2_self_shielding\": 0,\n",
    "    \"use_radiative_transfer\": 1,\n",
    "    \"radiative_transfer_coupled_rate_solver\": 0\n",
    "}"
   ]
  },
  {
   "cell_type": "markdown",
   "metadata": {},
   "source": [
    "#### To rerun model with different settings, run all lines from here down."
   ]
  },
  {
   "cell_type": "code",
   "execution_count": null,
   "metadata": {},
   "outputs": [],
   "source": [
    "prepare_grackle_data(mds, sim_type=EnzoDataset, parameters=grackle_pars)"
   ]
  },
  {
   "cell_type": "code",
   "execution_count": null,
   "metadata": {},
   "outputs": [],
   "source": [
    "my_peak = i_peaks[0]\n",
    "profile_index = my_peak\n",
    "data_time = mds.data['data', 'time'].to('Myr')\n",
    "first_time_index = np.where(mds.data['data', 'density'][:, my_peak] > 0)[0][0]\n",
    "start_time = data_time[first_time_index]\n",
    "my_fc, external_data, full_data = prepare_model(\n",
    "    mds, rds, start_time, profile_index)\n",
    "r_initial = full_data['data', 'radius'].to('code_length').d[0]\n",
    "gas_mass = full_data['data', mass_field].to('code_mass').d[0]\n",
    "# final_time = (data_time[-1] - start_time).to(\"s\").d / my_fc.chemistry_data.time_units\n",
    "final_time = 20\n",
    "creation_time = mds.parameters[\"creation_time\"]\n",
    "model_creation_time = (creation_time.to(\"s\") - start_time).d / my_fc.chemistry_data.time_units\n",
    "mds.cosmology.omega_baryon = 0.0449\n",
    "\n",
    "# Set a metallicity (comment out to use native metallicity)\n",
    "# external_data['metallicity'][:] = mds.quan(1e-3, 'Zsun').to('').d"
   ]
  },
  {
   "cell_type": "code",
   "execution_count": null,
   "metadata": {},
   "outputs": [],
   "source": [
    "# timestepping safety factor\n",
    "safety_factor = 0.01\n",
    "\n",
    "model = MinihaloModel(\n",
    "    my_fc,\n",
    "    external_data=external_data,\n",
    "    unit_registry=mds.unit_registry,\n",
    "    final_time=final_time,\n",
    "    include_pressure=True,\n",
    "    safety_factor=safety_factor,\n",
    "    initial_radius=r_initial,\n",
    "    gas_mass=gas_mass,\n",
    "    include_turbulence=True,\n",
    "    cosmology=mds.cosmology,\n",
    "    star_creation_time=model_creation_time,\n",
    "    event_trigger_fields=['RT_H2_dissociation_rate']\n",
    ")\n",
    "model.use_dark_matter = False\n",
    "model.verbose = False\n",
    "model.evolve()\n",
    "mdata = model.finalize_data()"
   ]
  },
  {
   "cell_type": "code",
   "execution_count": null,
   "metadata": {
    "scrolled": false
   },
   "outputs": [],
   "source": [
    "### Bonnor-Ebert Mass constant\n",
    "a = 1.67\n",
    "b = (225 / (32 * np.sqrt(5 * np.pi))) * a**-1.5\n",
    "\n",
    "plotter = DataPlotter(plots, labels, figsize=(15, 6), plot_func=\"semilogy\")\n",
    "\n",
    "my_m = full_data['data', mass_field][0]\n",
    "dcolor = \"black\"\n",
    "mcolor = \"blue\"\n",
    "label = f\"{my_m:.3f}\"\n",
    "\n",
    "data_t = mds.data['time'].to(\"Myr\")\n",
    "my_t = data_t[data_t < creation_time] - data_t[0]\n",
    "model_t = mdata[\"time\"].to(\"Myr\")\n",
    "\n",
    "plot_data = {\n",
    "    'time': my_t,\n",
    "    'entropy': full_data['data', 'entropy'].to('erg*cm**2'),\n",
    "    'temperature': full_data['data', 'temperature'],\n",
    "    'pressure': full_data['data', 'pressure'],\n",
    "    'H2_fraction': full_data['data', 'H2_p0_fraction'],\n",
    "    'H2_diss': full_data['data', 'H2_p0_dissociation_rate'],\n",
    "    'metallicity': full_data['data', 'metallicity3'].to('Zsun'),\n",
    "    'mbe_ratio': full_data['data', 'bonnor_ebert_ratio']\n",
    "}\n",
    "\n",
    "plotter.plot_data(plot_data, color=dcolor)\n",
    "plotter.plot_datum('pressure', my_t, full_data['data', 'hydrostatic_pressure'],\n",
    "                   color=\"green\", label=\"hydrostatic\")\n",
    "\n",
    "plotter.plot_datum('density', my_t, full_data['data', 'density'],\n",
    "                   color=dcolor, linestyle='-', label='baryon')\n",
    "# plotter.plot_datum('density', my_t, full_data['data', 'dark_matter_density'],\n",
    "#                    color=dcolor, linestyle='--', label='dm')\n",
    "plotter.plot_datum('density', my_t, full_data['data', 'matter_density'],\n",
    "                   color=dcolor, linestyle=':', label='total')\n",
    "\n",
    "plotter.axes['timescales'].semilogy(my_t, full_data['data', 'cooling_time'].to('Myr'),\n",
    "                                    color=dcolor, linestyle='-', label='t$_{cool}$')\n",
    "t_ff = full_data['data', 'dynamical_time'].to('Myr')/np.sqrt(2)\n",
    "plotter.plot_datum('timescales', my_t, t_ff,\n",
    "                   color=dcolor, linestyle='--', label='t$_{ff}$')\n",
    "plotter.plot_datum('timescales', my_t, full_data['data', 'sound_crossing_time'].to('Myr')/np.sqrt(2),\n",
    "                   color=dcolor, linestyle=':', label='t$_{cs}$')\n",
    "\n",
    "plotter.plot_datum('density_growth', my_t, full_data['data', 'density']/t_ff,\n",
    "                   color=dcolor, linestyle='-', label='$\\\\rho/t_{ff}$')\n",
    "plotter.plot_datum('density_growth', my_t, np.gradient(full_data['data', 'density'])/np.gradient(my_t),\n",
    "                   color=dcolor, linestyle='--', label='$\\\\Delta\\\\rho/\\\\Delta t$')\n",
    "\n",
    "plotter.plot_datum('H2_diss', my_t, full_data['data', 'H_p0_ionization_rate'],\n",
    "                   color=dcolor, linestyle='--')\n",
    "\n",
    "# t_local = my_t[1:] - my_t[0]\n",
    "# x_local = np.diff(my_t) / t_ff[:-1]\n",
    "# y_local = 1 / (1 - x_local/2)**2\n",
    "# f_local = x_local < 2\n",
    "# density_ff = density[:-1] * y_local\n",
    "# growth_ff = np.gradient(density_ff) / np.diff(my_t)\n",
    "# t_growth = t_local[f_local]\n",
    "# ff_growth = growth_ff[f_local]\n",
    "\n",
    "model_entropy = (mdata['temperature'] * kboltz) / (mdata['de'] / mh)**(2/3)\n",
    "if 'H2I' in mdata:\n",
    "    model_fH2 = mdata['H2I'] / mdata['density']\n",
    "model_metallicity = (mdata['metal'] / mdata['density']).to('Zsun')\n",
    "model_cs = np.sqrt(mdata['gamma'] * mdata['pressure'] / mdata['density'])\n",
    "model_m_BE = (b * (model_cs**4 / G**1.5) * mdata['pressure']**-0.5).to('Msun')\n",
    "model_bonnor_ebert_ratio = my_m / model_m_BE\n",
    "model_time = mdata['time'].to('Myr')\n",
    "\n",
    "model_data = {\n",
    "    'time': model_time,\n",
    "    'entropy': model_entropy,\n",
    "    'density': mdata[\"density\"],\n",
    "    'temperature': mdata[\"temperature\"],\n",
    "    'metallicity': model_metallicity,\n",
    "    'pressure': mdata[\"pressure\"],\n",
    "    'mbe_ratio': model_bonnor_ebert_ratio,\n",
    "}\n",
    "if 'H2I' in mdata:\n",
    "    model_data['H2_fraction'] = model_fH2\n",
    "if 'RT_H2_dissociation_rate' in mdata:\n",
    "    model_data['H2_diss'] = mdata['RT_H2_dissociation_rate'] / my_fc.chemistry_data.time_units\n",
    "\n",
    "plotter.plot_data(model_data, color=mcolor)\n",
    "\n",
    "t_f = max(model_time.max(), my_t.max())\n",
    "z_f = mds.cosmology.z_from_t(mds.current_time + t_f)\n",
    "plotter.plot_datum('temperature', [model_time[0], t_f],\n",
    "                   2.73 * (1 + np.array([model.initial_redshift, z_f])),\n",
    "                   color='red')\n",
    "\n",
    "plotter.plot_datum('timescales', model_time, -mdata['cooling_time'].to('Myr'),\n",
    "                   color=mcolor, linestyle='-')\n",
    "plotter.plot_datum('timescales', model_time, mdata['freefall_time'].to('Myr'),\n",
    "                   color=mcolor, linestyle='--')\n",
    "plotter.plot_datum('timescales', model_time, mdata['sound_crossing_time'].to('Myr'),\n",
    "                   color=mcolor, linestyle=':')\n",
    "\n",
    "model_ff_growth = (mdata[\"density\"] / mdata[\"freefall_time\"]).to('g/cm**3/Myr')\n",
    "model_growth = (np.gradient(mdata[\"density\"]) / np.gradient(model_time)).to('g/cm**3/Myr')\n",
    "plotter.plot_datum('density_growth', model_time, model_ff_growth,\n",
    "                   color=mcolor, linestyle='-')\n",
    "# plotter.plot_datum('density_growth', model_time, model_growth,\n",
    "#                    color=mcolor, linestyle='--')\n",
    "\n",
    "plotter.plot_axes()\n",
    "pyplot.show()\n",
    "# pyplot.savefig(f'model_{star_id}.pdf', bbox_inches='tight')"
   ]
  },
  {
   "cell_type": "code",
   "execution_count": null,
   "metadata": {},
   "outputs": [],
   "source": []
  }
 ],
 "metadata": {
  "kernelspec": {
   "display_name": "Python 3 (ipykernel)",
   "language": "python",
   "name": "python3"
  },
  "language_info": {
   "codemirror_mode": {
    "name": "ipython",
    "version": 3
   },
   "file_extension": ".py",
   "mimetype": "text/x-python",
   "name": "python",
   "nbconvert_exporter": "python",
   "pygments_lexer": "ipython3",
   "version": "3.8.12"
  }
 },
 "nbformat": 4,
 "nbformat_minor": 2
}
